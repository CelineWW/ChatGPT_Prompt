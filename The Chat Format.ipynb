{
 "cells": [
  {
   "attachments": {},
   "cell_type": "markdown",
   "metadata": {},
   "source": [
    "# The Chat Format\n",
    "\n",
    "In this notebook, you will explore how you can utilize the chat format to have extended conversations with chatbots personalized or specialized for specific tasks or behaviors.\n",
    "\n",
    "## Setup"
   ]
  },
  {
   "cell_type": "code",
   "execution_count": 1,
   "metadata": {},
   "outputs": [],
   "source": [
    "import openai\n",
    "import os\n",
    "from config import openai_key\n",
    "\n",
    "openai.api_key = openai_key\n",
    "#  !export OPENAI_API_KEY= openai_key"
   ]
  },
  {
   "cell_type": "code",
   "execution_count": 2,
   "metadata": {},
   "outputs": [],
   "source": [
    "def get_completion(prompt, model=\"gpt-3.5-turbo\"):\n",
    "    messages = [{\"role\": \"user\", \"content\": prompt}]\n",
    "    response = openai.ChatCompletion.create(\n",
    "        model=model,\n",
    "        messages=messages,\n",
    "        temperature=0, # this is the degree of randomness of the model's output\n",
    "    )\n",
    "    return response.choices[0].message[\"content\"]\n",
    "\n",
    "def get_completion_from_messages(messages, model=\"gpt-3.5-turbo\", temperature=0):\n",
    "    response = openai.ChatCompletion.create(\n",
    "        model=model,\n",
    "        messages=messages,\n",
    "        temperature=temperature, # this is the degree of randomness of the model's output\n",
    "    )\n",
    "    print(str(response.choices[0].message))\n",
    "    return response.choices[0].message[\"content\"]"
   ]
  },
  {
   "cell_type": "code",
   "execution_count": 3,
   "metadata": {},
   "outputs": [],
   "source": [
    "messages =  [  \n",
    "{'role':'system', 'content':'You are an assistant that speaks like Shakespeare.'},    \n",
    "{'role':'user', 'content':'tell me a joke'},   \n",
    "{'role':'assistant', 'content':'Why did the chicken cross the road'},   \n",
    "{'role':'user', 'content':'I don\\'t know'}  ]"
   ]
  },
  {
   "cell_type": "code",
   "execution_count": 4,
   "metadata": {},
   "outputs": [
    {
     "name": "stdout",
     "output_type": "stream",
     "text": [
      "{\n",
      "  \"content\": \"To get to the other side! Alas, a classic jest that standeth the test of time.\",\n",
      "  \"role\": \"assistant\"\n",
      "}\n",
      "To get to the other side! Alas, a classic jest that standeth the test of time.\n"
     ]
    }
   ],
   "source": [
    "response = get_completion_from_messages(messages, temperature=1)\n",
    "print(response)"
   ]
  },
  {
   "cell_type": "code",
   "execution_count": 5,
   "metadata": {},
   "outputs": [
    {
     "name": "stdout",
     "output_type": "stream",
     "text": [
      "{\n",
      "  \"content\": \"Hello Isa, it's nice to meet you! How can I assist you today?\",\n",
      "  \"role\": \"assistant\"\n",
      "}\n",
      "Hello Isa, it's nice to meet you! How can I assist you today?\n"
     ]
    }
   ],
   "source": [
    "messages =  [  \n",
    "{'role':'system', 'content':'You are friendly chatbot.'},    \n",
    "{'role':'user', 'content':'Hi, my name is Isa'}  ]\n",
    "response = get_completion_from_messages(messages, temperature=1)\n",
    "print(response)"
   ]
  },
  {
   "cell_type": "code",
   "execution_count": 6,
   "metadata": {},
   "outputs": [
    {
     "name": "stdout",
     "output_type": "stream",
     "text": [
      "{\n",
      "  \"content\": \"I am sorry, but as a chatbot, I don't have access to your personal information, so I don't know your name. Can you please tell me your name so I can address you properly?\",\n",
      "  \"role\": \"assistant\"\n",
      "}\n",
      "I am sorry, but as a chatbot, I don't have access to your personal information, so I don't know your name. Can you please tell me your name so I can address you properly?\n"
     ]
    }
   ],
   "source": [
    "messages =  [  \n",
    "{'role':'system', 'content':'You are friendly chatbot.'},    \n",
    "{'role':'user', 'content':'Yes,  can you remind me, What is my name?'}  ]\n",
    "response = get_completion_from_messages(messages, temperature=1)\n",
    "print(response)"
   ]
  },
  {
   "cell_type": "code",
   "execution_count": 8,
   "metadata": {},
   "outputs": [
    {
     "name": "stdout",
     "output_type": "stream",
     "text": [
      "{\n",
      "  \"content\": \"Your name is Isa, nice to meet you again!\",\n",
      "  \"role\": \"assistant\"\n",
      "}\n",
      "Your name is Isa, nice to meet you again!\n"
     ]
    }
   ],
   "source": [
    "messages =  [  \n",
    "{'role':'system', 'content':'You are friendly chatbot.'},\n",
    "{'role':'user', 'content':'Hi, my name is Isa'},\n",
    "{'role':'assistant', 'content': \"Hi Isa! It's nice to meet you. \\\n",
    "Is there anything I can help you with today?\"},\n",
    "{'role':'user', 'content':'Yes, you can remind me, What is my name?'}  ]\n",
    "response = get_completion_from_messages(messages, temperature=1)\n",
    "print(response)"
   ]
  },
  {
   "attachments": {},
   "cell_type": "markdown",
   "metadata": {},
   "source": [
    "# OrderBot\n",
    "We can automate the collection of user prompts and assistant responses to build a  OrderBot. The OrderBot will take orders at a pizza restaurant. "
   ]
  },
  {
   "cell_type": "code",
   "execution_count": null,
   "metadata": {},
   "outputs": [],
   "source": [
    "def collect_messages(_):\n",
    "    prompt = inp.value_input\n",
    "    inp.value = ''\n",
    "    context.append({'role':'user', 'content':f\"{prompt}\"})\n",
    "    response = get_completion_from_messages(context) \n",
    "    context.append({'role':'assistant', 'content':f\"{response}\"})\n",
    "    panels.append(\n",
    "        pn.Row('User:', pn.pane.Markdown(prompt, width=600)))\n",
    "    panels.append(\n",
    "        pn.Row('Assistant:', pn.pane.Markdown(response, width=600, style={'background-color': '#F6F6F6'})))\n",
    " \n",
    "    return pn.Column(*panels)"
   ]
  },
  {
   "cell_type": "code",
   "execution_count": null,
   "metadata": {},
   "outputs": [
    {
     "name": "stdout",
     "output_type": "stream",
     "text": [
      "Requirement already satisfied: panel in /opt/anaconda3/envs/PythonData/lib/python3.9/site-packages (0.14.4)\n",
      "Requirement already satisfied: param>=1.12.0 in /opt/anaconda3/envs/PythonData/lib/python3.9/site-packages (from panel) (1.13.0)\n",
      "Requirement already satisfied: markdown in /opt/anaconda3/envs/PythonData/lib/python3.9/site-packages (from panel) (3.4.3)\n",
      "Requirement already satisfied: pyviz-comms>=0.7.4 in /opt/anaconda3/envs/PythonData/lib/python3.9/site-packages (from panel) (2.2.1)\n",
      "Requirement already satisfied: pyct>=0.4.4 in /opt/anaconda3/envs/PythonData/lib/python3.9/site-packages (from panel) (0.5.0)\n",
      "Requirement already satisfied: typing-extensions in /opt/anaconda3/envs/PythonData/lib/python3.9/site-packages (from panel) (4.3.0)\n",
      "Requirement already satisfied: bleach in /opt/anaconda3/envs/PythonData/lib/python3.9/site-packages (from panel) (4.1.0)\n",
      "Requirement already satisfied: tqdm>=4.48.0 in /opt/anaconda3/envs/PythonData/lib/python3.9/site-packages (from panel) (4.65.0)\n",
      "Requirement already satisfied: bokeh<2.5.0,>=2.4.0 in /opt/anaconda3/envs/PythonData/lib/python3.9/site-packages (from panel) (2.4.3)\n",
      "Requirement already satisfied: setuptools>=42 in /opt/anaconda3/envs/PythonData/lib/python3.9/site-packages (from panel) (63.4.1)\n",
      "Requirement already satisfied: requests in /opt/anaconda3/envs/PythonData/lib/python3.9/site-packages (from panel) (2.28.1)\n",
      "Requirement already satisfied: packaging>=16.8 in /opt/anaconda3/envs/PythonData/lib/python3.9/site-packages (from bokeh<2.5.0,>=2.4.0->panel) (21.3)\n",
      "Requirement already satisfied: PyYAML>=3.10 in /opt/anaconda3/envs/PythonData/lib/python3.9/site-packages (from bokeh<2.5.0,>=2.4.0->panel) (6.0)\n",
      "Requirement already satisfied: Jinja2>=2.9 in /opt/anaconda3/envs/PythonData/lib/python3.9/site-packages (from bokeh<2.5.0,>=2.4.0->panel) (3.0.3)\n",
      "Requirement already satisfied: numpy>=1.11.3 in /opt/anaconda3/envs/PythonData/lib/python3.9/site-packages (from bokeh<2.5.0,>=2.4.0->panel) (1.23.3)\n",
      "Requirement already satisfied: pillow>=7.1.0 in /opt/anaconda3/envs/PythonData/lib/python3.9/site-packages (from bokeh<2.5.0,>=2.4.0->panel) (9.2.0)\n",
      "Requirement already satisfied: tornado>=5.1 in /opt/anaconda3/envs/PythonData/lib/python3.9/site-packages (from bokeh<2.5.0,>=2.4.0->panel) (6.2)\n",
      "Requirement already satisfied: six>=1.9.0 in /opt/anaconda3/envs/PythonData/lib/python3.9/site-packages (from bleach->panel) (1.16.0)\n",
      "Requirement already satisfied: webencodings in /opt/anaconda3/envs/PythonData/lib/python3.9/site-packages (from bleach->panel) (0.5.1)\n",
      "Requirement already satisfied: importlib-metadata>=4.4 in /opt/anaconda3/envs/PythonData/lib/python3.9/site-packages (from markdown->panel) (4.11.3)\n",
      "Requirement already satisfied: certifi>=2017.4.17 in /opt/anaconda3/envs/PythonData/lib/python3.9/site-packages (from requests->panel) (2022.6.15)\n",
      "Requirement already satisfied: charset-normalizer<3,>=2 in /opt/anaconda3/envs/PythonData/lib/python3.9/site-packages (from requests->panel) (2.0.4)\n",
      "Requirement already satisfied: idna<4,>=2.5 in /opt/anaconda3/envs/PythonData/lib/python3.9/site-packages (from requests->panel) (3.3)\n",
      "Requirement already satisfied: urllib3<1.27,>=1.21.1 in /opt/anaconda3/envs/PythonData/lib/python3.9/site-packages (from requests->panel) (1.26.11)\n",
      "Requirement already satisfied: zipp>=0.5 in /opt/anaconda3/envs/PythonData/lib/python3.9/site-packages (from importlib-metadata>=4.4->markdown->panel) (3.8.0)\n",
      "Requirement already satisfied: MarkupSafe>=2.0 in /opt/anaconda3/envs/PythonData/lib/python3.9/site-packages (from Jinja2>=2.9->bokeh<2.5.0,>=2.4.0->panel) (2.1.1)\n",
      "Requirement already satisfied: pyparsing!=3.0.5,>=2.0.2 in /opt/anaconda3/envs/PythonData/lib/python3.9/site-packages (from packaging>=16.8->bokeh<2.5.0,>=2.4.0->panel) (3.0.9)\n",
      "Collecting jupyter_bokeh\n",
      "  Downloading jupyter_bokeh-3.0.7.tar.gz (777 kB)\n",
      "\u001b[2K     \u001b[90m━━━━━━━━━━━━━━━━━━━━━━━━━━━━━━━━━━━━━━━\u001b[0m \u001b[32m777.3/777.3 kB\u001b[0m \u001b[31m7.6 MB/s\u001b[0m eta \u001b[36m0:00:00\u001b[0ma \u001b[36m0:00:01\u001b[0m\n",
      "\u001b[?25h  Installing build dependencies ... \u001b[?25ldone\n",
      "\u001b[?25h  Getting requirements to build wheel ... \u001b[?25ldone\n",
      "\u001b[?25h  Preparing metadata (pyproject.toml) ... \u001b[?25ldone\n",
      "\u001b[?25hCollecting ipywidgets==8.*\n",
      "  Downloading ipywidgets-8.0.6-py3-none-any.whl (138 kB)\n",
      "\u001b[2K     \u001b[90m━━━━━━━━━━━━━━━━━━━━━━━━━━━━━━━━━━━━━━\u001b[0m \u001b[32m138.3/138.3 kB\u001b[0m \u001b[31m15.9 MB/s\u001b[0m eta \u001b[36m0:00:00\u001b[0m\n",
      "\u001b[?25hCollecting bokeh==3.*\n",
      "  Downloading bokeh-3.1.0-py3-none-any.whl (8.3 MB)\n",
      "\u001b[2K     \u001b[90m━━━━━━━━━━━━━━━━━━━━━━━━━━━━━━━━━━━━━━━━\u001b[0m \u001b[32m8.3/8.3 MB\u001b[0m \u001b[31m20.1 MB/s\u001b[0m eta \u001b[36m0:00:00\u001b[0ma \u001b[36m0:00:01\u001b[0m\n",
      "\u001b[?25hRequirement already satisfied: PyYAML>=3.10 in /opt/anaconda3/envs/PythonData/lib/python3.9/site-packages (from bokeh==3.*->jupyter_bokeh) (6.0)\n",
      "Requirement already satisfied: pandas>=1.2 in /opt/anaconda3/envs/PythonData/lib/python3.9/site-packages (from bokeh==3.*->jupyter_bokeh) (1.5.0)\n",
      "Requirement already satisfied: Jinja2>=2.9 in /opt/anaconda3/envs/PythonData/lib/python3.9/site-packages (from bokeh==3.*->jupyter_bokeh) (3.0.3)\n",
      "Requirement already satisfied: packaging>=16.8 in /opt/anaconda3/envs/PythonData/lib/python3.9/site-packages (from bokeh==3.*->jupyter_bokeh) (21.3)\n",
      "Requirement already satisfied: numpy>=1.16 in /opt/anaconda3/envs/PythonData/lib/python3.9/site-packages (from bokeh==3.*->jupyter_bokeh) (1.23.3)\n",
      "Requirement already satisfied: tornado>=5.1 in /opt/anaconda3/envs/PythonData/lib/python3.9/site-packages (from bokeh==3.*->jupyter_bokeh) (6.2)\n",
      "Collecting xyzservices>=2021.09.1\n",
      "  Downloading xyzservices-2023.2.0-py3-none-any.whl (55 kB)\n",
      "\u001b[2K     \u001b[90m━━━━━━━━━━━━━━━━━━━━━━━━━━━━━━━━━━━━━━━━\u001b[0m \u001b[32m55.4/55.4 kB\u001b[0m \u001b[31m7.8 MB/s\u001b[0m eta \u001b[36m0:00:00\u001b[0m\n",
      "\u001b[?25hRequirement already satisfied: contourpy>=1 in /opt/anaconda3/envs/PythonData/lib/python3.9/site-packages (from bokeh==3.*->jupyter_bokeh) (1.0.5)\n",
      "Requirement already satisfied: pillow>=7.1.0 in /opt/anaconda3/envs/PythonData/lib/python3.9/site-packages (from bokeh==3.*->jupyter_bokeh) (9.2.0)\n",
      "Requirement already satisfied: ipython>=6.1.0 in /opt/anaconda3/envs/PythonData/lib/python3.9/site-packages (from ipywidgets==8.*->jupyter_bokeh) (8.4.0)\n",
      "Requirement already satisfied: traitlets>=4.3.1 in /opt/anaconda3/envs/PythonData/lib/python3.9/site-packages (from ipywidgets==8.*->jupyter_bokeh) (5.1.1)\n",
      "Collecting jupyterlab-widgets~=3.0.7\n",
      "  Downloading jupyterlab_widgets-3.0.7-py3-none-any.whl (198 kB)\n",
      "\u001b[2K     \u001b[90m━━━━━━━━━━━━━━━━━━━━━━━━━━━━━━━━━━━━━━\u001b[0m \u001b[32m198.2/198.2 kB\u001b[0m \u001b[31m16.2 MB/s\u001b[0m eta \u001b[36m0:00:00\u001b[0m\n",
      "\u001b[?25hRequirement already satisfied: ipykernel>=4.5.1 in /opt/anaconda3/envs/PythonData/lib/python3.9/site-packages (from ipywidgets==8.*->jupyter_bokeh) (6.15.2)\n",
      "Collecting widgetsnbextension~=4.0.7\n",
      "  Downloading widgetsnbextension-4.0.7-py3-none-any.whl (2.1 MB)\n",
      "\u001b[2K     \u001b[90m━━━━━━━━━━━━━━━━━━━━━━━━━━━━━━━━━━━━━━━━\u001b[0m \u001b[32m2.1/2.1 MB\u001b[0m \u001b[31m20.6 MB/s\u001b[0m eta \u001b[36m0:00:00\u001b[0ma \u001b[36m0:00:01\u001b[0m\n",
      "\u001b[?25hRequirement already satisfied: appnope in /opt/anaconda3/envs/PythonData/lib/python3.9/site-packages (from ipykernel>=4.5.1->ipywidgets==8.*->jupyter_bokeh) (0.1.2)\n",
      "Requirement already satisfied: pyzmq>=17 in /opt/anaconda3/envs/PythonData/lib/python3.9/site-packages (from ipykernel>=4.5.1->ipywidgets==8.*->jupyter_bokeh) (23.2.0)\n",
      "Requirement already satisfied: debugpy>=1.0 in /opt/anaconda3/envs/PythonData/lib/python3.9/site-packages (from ipykernel>=4.5.1->ipywidgets==8.*->jupyter_bokeh) (1.5.1)\n",
      "Requirement already satisfied: nest-asyncio in /opt/anaconda3/envs/PythonData/lib/python3.9/site-packages (from ipykernel>=4.5.1->ipywidgets==8.*->jupyter_bokeh) (1.5.5)\n",
      "Requirement already satisfied: psutil in /opt/anaconda3/envs/PythonData/lib/python3.9/site-packages (from ipykernel>=4.5.1->ipywidgets==8.*->jupyter_bokeh) (5.9.0)\n",
      "Requirement already satisfied: matplotlib-inline>=0.1 in /opt/anaconda3/envs/PythonData/lib/python3.9/site-packages (from ipykernel>=4.5.1->ipywidgets==8.*->jupyter_bokeh) (0.1.6)\n",
      "Requirement already satisfied: jupyter-client>=6.1.12 in /opt/anaconda3/envs/PythonData/lib/python3.9/site-packages (from ipykernel>=4.5.1->ipywidgets==8.*->jupyter_bokeh) (7.3.5)\n",
      "Requirement already satisfied: jedi>=0.16 in /opt/anaconda3/envs/PythonData/lib/python3.9/site-packages (from ipython>=6.1.0->ipywidgets==8.*->jupyter_bokeh) (0.18.1)\n",
      "Requirement already satisfied: pickleshare in /opt/anaconda3/envs/PythonData/lib/python3.9/site-packages (from ipython>=6.1.0->ipywidgets==8.*->jupyter_bokeh) (0.7.5)\n",
      "Requirement already satisfied: setuptools>=18.5 in /opt/anaconda3/envs/PythonData/lib/python3.9/site-packages (from ipython>=6.1.0->ipywidgets==8.*->jupyter_bokeh) (63.4.1)\n",
      "Requirement already satisfied: backcall in /opt/anaconda3/envs/PythonData/lib/python3.9/site-packages (from ipython>=6.1.0->ipywidgets==8.*->jupyter_bokeh) (0.2.0)\n",
      "Requirement already satisfied: pygments>=2.4.0 in /opt/anaconda3/envs/PythonData/lib/python3.9/site-packages (from ipython>=6.1.0->ipywidgets==8.*->jupyter_bokeh) (2.11.2)\n",
      "Requirement already satisfied: prompt-toolkit!=3.0.0,!=3.0.1,<3.1.0,>=2.0.0 in /opt/anaconda3/envs/PythonData/lib/python3.9/site-packages (from ipython>=6.1.0->ipywidgets==8.*->jupyter_bokeh) (3.0.20)\n",
      "Requirement already satisfied: stack-data in /opt/anaconda3/envs/PythonData/lib/python3.9/site-packages (from ipython>=6.1.0->ipywidgets==8.*->jupyter_bokeh) (0.2.0)\n",
      "Requirement already satisfied: decorator in /opt/anaconda3/envs/PythonData/lib/python3.9/site-packages (from ipython>=6.1.0->ipywidgets==8.*->jupyter_bokeh) (5.1.1)\n",
      "Requirement already satisfied: pexpect>4.3 in /opt/anaconda3/envs/PythonData/lib/python3.9/site-packages (from ipython>=6.1.0->ipywidgets==8.*->jupyter_bokeh) (4.8.0)\n",
      "Requirement already satisfied: MarkupSafe>=2.0 in /opt/anaconda3/envs/PythonData/lib/python3.9/site-packages (from Jinja2>=2.9->bokeh==3.*->jupyter_bokeh) (2.1.1)\n",
      "Requirement already satisfied: pyparsing!=3.0.5,>=2.0.2 in /opt/anaconda3/envs/PythonData/lib/python3.9/site-packages (from packaging>=16.8->bokeh==3.*->jupyter_bokeh) (3.0.9)\n",
      "Requirement already satisfied: python-dateutil>=2.8.1 in /opt/anaconda3/envs/PythonData/lib/python3.9/site-packages (from pandas>=1.2->bokeh==3.*->jupyter_bokeh) (2.8.2)\n",
      "Requirement already satisfied: pytz>=2020.1 in /opt/anaconda3/envs/PythonData/lib/python3.9/site-packages (from pandas>=1.2->bokeh==3.*->jupyter_bokeh) (2022.1)\n",
      "Requirement already satisfied: parso<0.9.0,>=0.8.0 in /opt/anaconda3/envs/PythonData/lib/python3.9/site-packages (from jedi>=0.16->ipython>=6.1.0->ipywidgets==8.*->jupyter_bokeh) (0.8.3)\n",
      "Requirement already satisfied: entrypoints in /opt/anaconda3/envs/PythonData/lib/python3.9/site-packages (from jupyter-client>=6.1.12->ipykernel>=4.5.1->ipywidgets==8.*->jupyter_bokeh) (0.4)\n",
      "Requirement already satisfied: jupyter-core>=4.9.2 in /opt/anaconda3/envs/PythonData/lib/python3.9/site-packages (from jupyter-client>=6.1.12->ipykernel>=4.5.1->ipywidgets==8.*->jupyter_bokeh) (4.11.1)\n",
      "Requirement already satisfied: ptyprocess>=0.5 in /opt/anaconda3/envs/PythonData/lib/python3.9/site-packages (from pexpect>4.3->ipython>=6.1.0->ipywidgets==8.*->jupyter_bokeh) (0.7.0)\n",
      "Requirement already satisfied: wcwidth in /opt/anaconda3/envs/PythonData/lib/python3.9/site-packages (from prompt-toolkit!=3.0.0,!=3.0.1,<3.1.0,>=2.0.0->ipython>=6.1.0->ipywidgets==8.*->jupyter_bokeh) (0.2.5)\n",
      "Requirement already satisfied: six>=1.5 in /opt/anaconda3/envs/PythonData/lib/python3.9/site-packages (from python-dateutil>=2.8.1->pandas>=1.2->bokeh==3.*->jupyter_bokeh) (1.16.0)\n",
      "Requirement already satisfied: asttokens in /opt/anaconda3/envs/PythonData/lib/python3.9/site-packages (from stack-data->ipython>=6.1.0->ipywidgets==8.*->jupyter_bokeh) (2.0.5)\n",
      "Requirement already satisfied: pure-eval in /opt/anaconda3/envs/PythonData/lib/python3.9/site-packages (from stack-data->ipython>=6.1.0->ipywidgets==8.*->jupyter_bokeh) (0.2.2)\n",
      "Requirement already satisfied: executing in /opt/anaconda3/envs/PythonData/lib/python3.9/site-packages (from stack-data->ipython>=6.1.0->ipywidgets==8.*->jupyter_bokeh) (0.8.3)\n",
      "Building wheels for collected packages: jupyter_bokeh\n",
      "  Building wheel for jupyter_bokeh (pyproject.toml) ... \u001b[?25ldone\n",
      "\u001b[?25h  Created wheel for jupyter_bokeh: filename=jupyter_bokeh-3.0.7-py3-none-any.whl size=1392131 sha256=3ad2467dec5c79ba1193eb17cccbe63614b73cdab37194281840cad8993ea103\n",
      "  Stored in directory: /Users/cw/Library/Caches/pip/wheels/9a/fb/f1/35c6a7cdcfab7528bb24023b6d3db7f94d1b1edce8e307400c\n",
      "Successfully built jupyter_bokeh\n",
      "Installing collected packages: xyzservices, widgetsnbextension, jupyterlab-widgets, bokeh, ipywidgets, jupyter_bokeh\n",
      "  Attempting uninstall: widgetsnbextension\n",
      "    Found existing installation: widgetsnbextension 3.5.2\n",
      "    Uninstalling widgetsnbextension-3.5.2:\n",
      "      Successfully uninstalled widgetsnbextension-3.5.2\n",
      "  Attempting uninstall: jupyterlab-widgets\n",
      "    Found existing installation: jupyterlab-widgets 1.0.0\n",
      "    Uninstalling jupyterlab-widgets-1.0.0:\n",
      "      Successfully uninstalled jupyterlab-widgets-1.0.0\n",
      "  Attempting uninstall: bokeh\n",
      "    Found existing installation: bokeh 2.4.3\n",
      "    Uninstalling bokeh-2.4.3:\n",
      "      Successfully uninstalled bokeh-2.4.3\n",
      "  Attempting uninstall: ipywidgets\n",
      "    Found existing installation: ipywidgets 7.6.5\n",
      "    Uninstalling ipywidgets-7.6.5:\n",
      "      Successfully uninstalled ipywidgets-7.6.5\n",
      "\u001b[31mERROR: pip's dependency resolver does not currently take into account all the packages that are installed. This behaviour is the source of the following dependency conflicts.\n",
      "panel 0.14.4 requires bokeh<2.5.0,>=2.4.0, but you have bokeh 3.1.0 which is incompatible.\u001b[0m\u001b[31m\n",
      "\u001b[0mSuccessfully installed bokeh-3.1.0 ipywidgets-8.0.6 jupyter_bokeh-3.0.7 jupyterlab-widgets-3.0.7 widgetsnbextension-4.0.7 xyzservices-2023.2.0\n"
     ]
    }
   ],
   "source": [
    "! pip install panel\n",
    "! pip install jupyter_bokeh"
   ]
  },
  {
   "cell_type": "code",
   "execution_count": 9,
   "metadata": {},
   "outputs": [
    {
     "ename": "ImportError",
     "evalue": "cannot import name 'Box' from 'bokeh.models' (/opt/anaconda3/envs/PythonData/lib/python3.9/site-packages/bokeh/models/__init__.py)",
     "output_type": "error",
     "traceback": [
      "\u001b[0;31m---------------------------------------------------------------------------\u001b[0m",
      "\u001b[0;31mImportError\u001b[0m                               Traceback (most recent call last)",
      "\u001b[1;32m/Users/cw/Documents/Data_Science/Training Program/Andrew Ng | Deep Learning AI /ChatGPT Prompt Engineering for Developers/The Chat Format.ipynb Cell 12\u001b[0m in \u001b[0;36m<cell line: 1>\u001b[0;34m()\u001b[0m\n\u001b[0;32m----> <a href='vscode-notebook-cell:/Users/cw/Documents/Data_Science/Training%20Program/Andrew%20Ng%20%7C%20Deep%20Learning%20AI%20/ChatGPT%20Prompt%20Engineering%20for%20Developers/The%20Chat%20Format.ipynb#X13sZmlsZQ%3D%3D?line=0'>1</a>\u001b[0m \u001b[39mimport\u001b[39;00m \u001b[39mpanel\u001b[39;00m \u001b[39mas\u001b[39;00m \u001b[39mpn\u001b[39;00m  \u001b[39m# GUI\u001b[39;00m\n\u001b[1;32m      <a href='vscode-notebook-cell:/Users/cw/Documents/Data_Science/Training%20Program/Andrew%20Ng%20%7C%20Deep%20Learning%20AI%20/ChatGPT%20Prompt%20Engineering%20for%20Developers/The%20Chat%20Format.ipynb#X13sZmlsZQ%3D%3D?line=1'>2</a>\u001b[0m pn\u001b[39m.\u001b[39mextension()\n\u001b[1;32m      <a href='vscode-notebook-cell:/Users/cw/Documents/Data_Science/Training%20Program/Andrew%20Ng%20%7C%20Deep%20Learning%20AI%20/ChatGPT%20Prompt%20Engineering%20for%20Developers/The%20Chat%20Format.ipynb#X13sZmlsZQ%3D%3D?line=3'>4</a>\u001b[0m panels \u001b[39m=\u001b[39m [] \u001b[39m# collect display \u001b[39;00m\n",
      "File \u001b[0;32m/opt/anaconda3/envs/PythonData/lib/python3.9/site-packages/panel/__init__.py:48\u001b[0m, in \u001b[0;36m<module>\u001b[0;34m\u001b[0m\n\u001b[1;32m      1\u001b[0m \u001b[39m\"\"\"\u001b[39;00m\n\u001b[1;32m      2\u001b[0m \u001b[39mPanel is a high level app and dashboarding framework\u001b[39;00m\n\u001b[1;32m      3\u001b[0m \u001b[39m====================================================\u001b[39;00m\n\u001b[0;32m   (...)\u001b[0m\n\u001b[1;32m     46\u001b[0m \u001b[39mhttps://panel.holoviz.org/getting_started/index.html\u001b[39;00m\n\u001b[1;32m     47\u001b[0m \u001b[39m\"\"\"\u001b[39;00m\n\u001b[0;32m---> 48\u001b[0m \u001b[39mfrom\u001b[39;00m \u001b[39m.\u001b[39;00m \u001b[39mimport\u001b[39;00m layout  \u001b[39m# noqa\u001b[39;00m\n\u001b[1;32m     49\u001b[0m \u001b[39mfrom\u001b[39;00m \u001b[39m.\u001b[39;00m \u001b[39mimport\u001b[39;00m links  \u001b[39m# noqa\u001b[39;00m\n\u001b[1;32m     50\u001b[0m \u001b[39mfrom\u001b[39;00m \u001b[39m.\u001b[39;00m \u001b[39mimport\u001b[39;00m pane  \u001b[39m# noqa\u001b[39;00m\n",
      "File \u001b[0;32m/opt/anaconda3/envs/PythonData/lib/python3.9/site-packages/panel/layout/__init__.py:31\u001b[0m, in \u001b[0;36m<module>\u001b[0;34m\u001b[0m\n\u001b[1;32m      1\u001b[0m \u001b[39m\"\"\"\u001b[39;00m\n\u001b[1;32m      2\u001b[0m \u001b[39mLayout\u001b[39;00m\n\u001b[1;32m      3\u001b[0m \u001b[39m======\u001b[39;00m\n\u001b[0;32m   (...)\u001b[0m\n\u001b[1;32m     29\u001b[0m \u001b[39mhttps://panel.holoviz.org/getting_started/index.html\u001b[39;00m\n\u001b[1;32m     30\u001b[0m \u001b[39m\"\"\"\u001b[39;00m\n\u001b[0;32m---> 31\u001b[0m \u001b[39mfrom\u001b[39;00m \u001b[39m.\u001b[39;00m\u001b[39maccordion\u001b[39;00m \u001b[39mimport\u001b[39;00m Accordion  \u001b[39m# noqa\u001b[39;00m\n\u001b[1;32m     32\u001b[0m \u001b[39mfrom\u001b[39;00m \u001b[39m.\u001b[39;00m\u001b[39mbase\u001b[39;00m \u001b[39mimport\u001b[39;00m (  \u001b[39m# noqa\u001b[39;00m\n\u001b[1;32m     33\u001b[0m     Column, ListLike, ListPanel, Panel, Row, WidgetBox,\n\u001b[1;32m     34\u001b[0m )\n\u001b[1;32m     35\u001b[0m \u001b[39mfrom\u001b[39;00m \u001b[39m.\u001b[39;00m\u001b[39mcard\u001b[39;00m \u001b[39mimport\u001b[39;00m Card  \u001b[39m# noqa\u001b[39;00m\n",
      "File \u001b[0;32m/opt/anaconda3/envs/PythonData/lib/python3.9/site-packages/panel/layout/accordion.py:9\u001b[0m, in \u001b[0;36m<module>\u001b[0;34m\u001b[0m\n\u001b[1;32m      5\u001b[0m \u001b[39mimport\u001b[39;00m \u001b[39mparam\u001b[39;00m\n\u001b[1;32m      7\u001b[0m \u001b[39mfrom\u001b[39;00m \u001b[39mbokeh\u001b[39;00m\u001b[39m.\u001b[39;00m\u001b[39mmodels\u001b[39;00m \u001b[39mimport\u001b[39;00m Column \u001b[39mas\u001b[39;00m BkColumn, CustomJS\n\u001b[0;32m----> 9\u001b[0m \u001b[39mfrom\u001b[39;00m \u001b[39m.\u001b[39;00m\u001b[39mbase\u001b[39;00m \u001b[39mimport\u001b[39;00m NamedListPanel\n\u001b[1;32m     10\u001b[0m \u001b[39mfrom\u001b[39;00m \u001b[39m.\u001b[39;00m\u001b[39mcard\u001b[39;00m \u001b[39mimport\u001b[39;00m Card\n\u001b[1;32m     12\u001b[0m \u001b[39mif\u001b[39;00m TYPE_CHECKING:\n",
      "File \u001b[0;32m/opt/anaconda3/envs/PythonData/lib/python3.9/site-packages/panel/layout/base.py:17\u001b[0m, in \u001b[0;36m<module>\u001b[0;34m\u001b[0m\n\u001b[1;32m     13\u001b[0m \u001b[39mimport\u001b[39;00m \u001b[39mparam\u001b[39;00m\n\u001b[1;32m     15\u001b[0m \u001b[39mfrom\u001b[39;00m \u001b[39mbokeh\u001b[39;00m\u001b[39m.\u001b[39;00m\u001b[39mmodels\u001b[39;00m \u001b[39mimport\u001b[39;00m Column \u001b[39mas\u001b[39;00m BkColumn, Row \u001b[39mas\u001b[39;00m BkRow\n\u001b[0;32m---> 17\u001b[0m \u001b[39mfrom\u001b[39;00m \u001b[39m.\u001b[39;00m\u001b[39m.\u001b[39;00m\u001b[39mio\u001b[39;00m\u001b[39m.\u001b[39;00m\u001b[39mmodel\u001b[39;00m \u001b[39mimport\u001b[39;00m hold\n\u001b[1;32m     18\u001b[0m \u001b[39mfrom\u001b[39;00m \u001b[39m.\u001b[39;00m\u001b[39m.\u001b[39;00m\u001b[39mio\u001b[39;00m\u001b[39m.\u001b[39;00m\u001b[39mstate\u001b[39;00m \u001b[39mimport\u001b[39;00m state\n\u001b[1;32m     19\u001b[0m \u001b[39mfrom\u001b[39;00m \u001b[39m.\u001b[39;00m\u001b[39m.\u001b[39;00m\u001b[39mreactive\u001b[39;00m \u001b[39mimport\u001b[39;00m Reactive\n",
      "File \u001b[0;32m/opt/anaconda3/envs/PythonData/lib/python3.9/site-packages/panel/io/__init__.py:9\u001b[0m, in \u001b[0;36m<module>\u001b[0;34m\u001b[0m\n\u001b[1;32m      7\u001b[0m \u001b[39mfrom\u001b[39;00m \u001b[39m.\u001b[39;00m\u001b[39mcache\u001b[39;00m \u001b[39mimport\u001b[39;00m cache  \u001b[39m# noqa\u001b[39;00m\n\u001b[1;32m      8\u001b[0m \u001b[39mfrom\u001b[39;00m \u001b[39m.\u001b[39;00m\u001b[39mcallbacks\u001b[39;00m \u001b[39mimport\u001b[39;00m PeriodicCallback  \u001b[39m# noqa\u001b[39;00m\n\u001b[0;32m----> 9\u001b[0m \u001b[39mfrom\u001b[39;00m \u001b[39m.\u001b[39;00m\u001b[39mdocument\u001b[39;00m \u001b[39mimport\u001b[39;00m init_doc, unlocked, with_lock  \u001b[39m# noqa\u001b[39;00m\n\u001b[1;32m     10\u001b[0m \u001b[39mfrom\u001b[39;00m \u001b[39m.\u001b[39;00m\u001b[39membed\u001b[39;00m \u001b[39mimport\u001b[39;00m embed_state  \u001b[39m# noqa\u001b[39;00m\n\u001b[1;32m     11\u001b[0m \u001b[39mfrom\u001b[39;00m \u001b[39m.\u001b[39;00m\u001b[39mlogging\u001b[39;00m \u001b[39mimport\u001b[39;00m panel_logger  \u001b[39m# noqa\u001b[39;00m\n",
      "File \u001b[0;32m/opt/anaconda3/envs/PythonData/lib/python3.9/site-packages/panel/io/document.py:20\u001b[0m, in \u001b[0;36m<module>\u001b[0;34m\u001b[0m\n\u001b[1;32m     17\u001b[0m \u001b[39mfrom\u001b[39;00m \u001b[39mbokeh\u001b[39;00m\u001b[39m.\u001b[39;00m\u001b[39mdocument\u001b[39;00m\u001b[39m.\u001b[39;00m\u001b[39mdocument\u001b[39;00m \u001b[39mimport\u001b[39;00m Document\n\u001b[1;32m     18\u001b[0m \u001b[39mfrom\u001b[39;00m \u001b[39mbokeh\u001b[39;00m\u001b[39m.\u001b[39;00m\u001b[39mdocument\u001b[39;00m\u001b[39m.\u001b[39;00m\u001b[39mevents\u001b[39;00m \u001b[39mimport\u001b[39;00m DocumentChangedEvent, ModelChangedEvent\n\u001b[0;32m---> 20\u001b[0m \u001b[39mfrom\u001b[39;00m \u001b[39m.\u001b[39;00m\u001b[39mmodel\u001b[39;00m \u001b[39mimport\u001b[39;00m monkeypatch_events\n\u001b[1;32m     21\u001b[0m \u001b[39mfrom\u001b[39;00m \u001b[39m.\u001b[39;00m\u001b[39mstate\u001b[39;00m \u001b[39mimport\u001b[39;00m curdoc_locked, state\n\u001b[1;32m     23\u001b[0m logger \u001b[39m=\u001b[39m logging\u001b[39m.\u001b[39mgetLogger(\u001b[39m__name__\u001b[39m)\n",
      "File \u001b[0;32m/opt/anaconda3/envs/PythonData/lib/python3.9/site-packages/panel/io/model.py:20\u001b[0m, in \u001b[0;36m<module>\u001b[0;34m\u001b[0m\n\u001b[1;32m     16\u001b[0m \u001b[39mfrom\u001b[39;00m \u001b[39mbokeh\u001b[39;00m\u001b[39m.\u001b[39;00m\u001b[39mdocument\u001b[39;00m\u001b[39m.\u001b[39;00m\u001b[39mevents\u001b[39;00m \u001b[39mimport\u001b[39;00m (\n\u001b[1;32m     17\u001b[0m     ColumnDataChangedEvent, DocumentPatchedEvent, ModelChangedEvent,\n\u001b[1;32m     18\u001b[0m )\n\u001b[1;32m     19\u001b[0m \u001b[39mfrom\u001b[39;00m \u001b[39mbokeh\u001b[39;00m\u001b[39m.\u001b[39;00m\u001b[39mmodel\u001b[39;00m \u001b[39mimport\u001b[39;00m DataModel\n\u001b[0;32m---> 20\u001b[0m \u001b[39mfrom\u001b[39;00m \u001b[39mbokeh\u001b[39;00m\u001b[39m.\u001b[39;00m\u001b[39mmodels\u001b[39;00m \u001b[39mimport\u001b[39;00m Box, ColumnDataSource, Model\n\u001b[1;32m     21\u001b[0m \u001b[39mfrom\u001b[39;00m \u001b[39mbokeh\u001b[39;00m\u001b[39m.\u001b[39;00m\u001b[39mprotocol\u001b[39;00m \u001b[39mimport\u001b[39;00m Protocol\n\u001b[1;32m     22\u001b[0m \u001b[39mfrom\u001b[39;00m \u001b[39mtyping_extensions\u001b[39;00m \u001b[39mimport\u001b[39;00m Literal\n",
      "\u001b[0;31mImportError\u001b[0m: cannot import name 'Box' from 'bokeh.models' (/opt/anaconda3/envs/PythonData/lib/python3.9/site-packages/bokeh/models/__init__.py)"
     ]
    }
   ],
   "source": [
    "import panel as pn  # GUI\n",
    "pn.extension()\n",
    "\n",
    "panels = [] # collect display \n",
    "\n",
    "context = [ {'role':'system', 'content':\"\"\"\n",
    "You are OrderBot, an automated service to collect orders for a pizza restaurant. \\\n",
    "You first greet the customer, then collects the order, \\\n",
    "and then asks if it's a pickup or delivery. \\\n",
    "You wait to collect the entire order, then summarize it and check for a final \\\n",
    "time if the customer wants to add anything else. \\\n",
    "If it's a delivery, you ask for an address. \\\n",
    "Finally you collect the payment.\\\n",
    "Make sure to clarify all options, extras and sizes to uniquely \\\n",
    "identify the item from the menu.\\\n",
    "You respond in a short, very conversational friendly style. \\\n",
    "The menu includes \\\n",
    "pepperoni pizza  12.95, 10.00, 7.00 \\\n",
    "cheese pizza   10.95, 9.25, 6.50 \\\n",
    "eggplant pizza   11.95, 9.75, 6.75 \\\n",
    "fries 4.50, 3.50 \\\n",
    "greek salad 7.25 \\\n",
    "Toppings: \\\n",
    "extra cheese 2.00, \\\n",
    "mushrooms 1.50 \\\n",
    "sausage 3.00 \\\n",
    "canadian bacon 3.50 \\\n",
    "AI sauce 1.50 \\\n",
    "peppers 1.00 \\\n",
    "Drinks: \\\n",
    "coke 3.00, 2.00, 1.00 \\\n",
    "sprite 3.00, 2.00, 1.00 \\\n",
    "bottled water 5.00 \\\n",
    "\"\"\"} ]  # accumulate messages\n",
    "\n",
    "\n",
    "inp = pn.widgets.TextInput(value=\"Hi\", placeholder='Enter text here…')\n",
    "button_conversation = pn.widgets.Button(name=\"Chat!\")\n",
    "\n",
    "interactive_conversation = pn.bind(collect_messages, button_conversation)\n",
    "\n",
    "dashboard = pn.Column(\n",
    "    inp,\n",
    "    pn.Row(button_conversation),\n",
    "    pn.panel(interactive_conversation, loading_indicator=True, height=300),\n",
    ")\n",
    "\n",
    "dashboard"
   ]
  },
  {
   "cell_type": "code",
   "execution_count": null,
   "metadata": {},
   "outputs": [
    {
     "name": "stdout",
     "output_type": "stream",
     "text": [
      "{\n",
      "  \"content\": \"Sure, here's a JSON summary of the order:\\n\\n```\\n{\\n  \\\"pizza\\\": [\\n    {\\n      \\\"type\\\": \\\"pepperoni\\\",\\n      \\\"size\\\": \\\"large\\\",\\n      \\\"price\\\": 12.95\\n    },\\n    {\\n      \\\"type\\\": \\\"cheese\\\",\\n      \\\"size\\\": \\\"medium\\\",\\n      \\\"price\\\": 9.25\\n    }\\n  ],\\n  \\\"toppings\\\": [\\n    {\\n      \\\"type\\\": \\\"extra cheese\\\",\\n      \\\"price\\\": 2.00\\n    },\\n    {\\n      \\\"type\\\": \\\"mushrooms\\\",\\n      \\\"price\\\": 1.50\\n    }\\n  ],\\n  \\\"drinks\\\": [\\n    {\\n      \\\"type\\\": \\\"coke\\\",\\n      \\\"size\\\": \\\"large\\\",\\n      \\\"price\\\": 3.00\\n    },\\n    {\\n      \\\"type\\\": \\\"sprite\\\",\\n      \\\"size\\\": \\\"small\\\",\\n      \\\"price\\\": 1.00\\n    }\\n  ],\\n  \\\"sides\\\": [\\n    {\\n      \\\"type\\\": \\\"fries\\\",\\n      \\\"size\\\": \\\"large\\\",\\n      \\\"price\\\": 4.50\\n    }\\n  ],\\n  \\\"total_price\\\": 35.20\\n}\\n```\",\n",
      "  \"role\": \"assistant\"\n",
      "}\n",
      "Sure, here's a JSON summary of the order:\n",
      "\n",
      "```\n",
      "{\n",
      "  \"pizza\": [\n",
      "    {\n",
      "      \"type\": \"pepperoni\",\n",
      "      \"size\": \"large\",\n",
      "      \"price\": 12.95\n",
      "    },\n",
      "    {\n",
      "      \"type\": \"cheese\",\n",
      "      \"size\": \"medium\",\n",
      "      \"price\": 9.25\n",
      "    }\n",
      "  ],\n",
      "  \"toppings\": [\n",
      "    {\n",
      "      \"type\": \"extra cheese\",\n",
      "      \"price\": 2.00\n",
      "    },\n",
      "    {\n",
      "      \"type\": \"mushrooms\",\n",
      "      \"price\": 1.50\n",
      "    }\n",
      "  ],\n",
      "  \"drinks\": [\n",
      "    {\n",
      "      \"type\": \"coke\",\n",
      "      \"size\": \"large\",\n",
      "      \"price\": 3.00\n",
      "    },\n",
      "    {\n",
      "      \"type\": \"sprite\",\n",
      "      \"size\": \"small\",\n",
      "      \"price\": 1.00\n",
      "    }\n",
      "  ],\n",
      "  \"sides\": [\n",
      "    {\n",
      "      \"type\": \"fries\",\n",
      "      \"size\": \"large\",\n",
      "      \"price\": 4.50\n",
      "    }\n",
      "  ],\n",
      "  \"total_price\": 35.20\n",
      "}\n",
      "```\n"
     ]
    }
   ],
   "source": [
    "messages =  context.copy()\n",
    "messages.append(\n",
    "{'role':'system', 'content':'create a json summary of the previous food order. Itemize the price for each item\\\n",
    " The fields should be 1) pizza, include size 2) list of toppings 3) list of drinks, include size   4) list of sides include size  5)total price '},    \n",
    ")\n",
    " #The fields should be 1) pizza, price 2) list of toppings 3) list of drinks, include size include price  4) list of sides include size include price, 5)total price '},    \n",
    "\n",
    "response = get_completion_from_messages(messages, temperature=0)\n",
    "print(response)"
   ]
  },
  {
   "attachments": {},
   "cell_type": "markdown",
   "metadata": {},
   "source": [
    "## Try experimenting on your own!\n",
    "\n",
    "You can modify the menu or instructions to create your own orderbot!"
   ]
  },
  {
   "cell_type": "code",
   "execution_count": null,
   "metadata": {},
   "outputs": [],
   "source": []
  }
 ],
 "metadata": {
  "kernelspec": {
   "display_name": "PythonData",
   "language": "python",
   "name": "python3"
  },
  "language_info": {
   "codemirror_mode": {
    "name": "ipython",
    "version": 3
   },
   "file_extension": ".py",
   "mimetype": "text/x-python",
   "name": "python",
   "nbconvert_exporter": "python",
   "pygments_lexer": "ipython3",
   "version": "3.9.13"
  },
  "orig_nbformat": 4
 },
 "nbformat": 4,
 "nbformat_minor": 2
}
